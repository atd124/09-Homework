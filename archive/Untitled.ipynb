{
 "cells": [
  {
   "cell_type": "code",
   "execution_count": 1,
   "id": "3889e123",
   "metadata": {},
   "outputs": [],
   "source": [
    "import pandas as pd"
   ]
  },
  {
   "cell_type": "code",
   "execution_count": 2,
   "id": "9696dfa0",
   "metadata": {},
   "outputs": [],
   "source": [
    "df = pd.read_csv(\"Seinfeld_scripts.csv\")\n"
   ]
  },
  {
   "cell_type": "code",
   "execution_count": 4,
   "id": "acda5652",
   "metadata": {},
   "outputs": [
    {
     "data": {
      "text/plain": [
       "<bound method NDFrame.head of        Unnamed: 0   Character  \\\n",
       "0               0       JERRY   \n",
       "1               1       JERRY   \n",
       "2               2      GEORGE   \n",
       "3               3       JERRY   \n",
       "4               4      GEORGE   \n",
       "...           ...         ...   \n",
       "54611       54611       JERRY   \n",
       "54612       54612  PRISONER 3   \n",
       "54613       54613       JERRY   \n",
       "54614       54614       GUARD   \n",
       "54615       54615       JERRY   \n",
       "\n",
       "                                                Dialogue  EpisodeNo    SEID  \\\n",
       "0      Do you know what this is all about? Do you kno...        1.0  S01E01   \n",
       "1      (pointing at Georges shirt) See, to me, that b...        1.0  S01E01   \n",
       "2                                       Are you through?        1.0  S01E01   \n",
       "3                 You do of course try on, when you buy?        1.0  S01E01   \n",
       "4      Yes, it was purple, I liked it, I dont actuall...        1.0  S01E01   \n",
       "...                                                  ...        ...     ...   \n",
       "54611    Grand theft auto - don't steal any of my jokes.       23.0  S09E23   \n",
       "54612                      You suck - I'm gonna cut you.       23.0  S09E23   \n",
       "54613  Hey, I don't come down to where you work, and ...       23.0  S09E23   \n",
       "54614   Alright, Seinfeld, that's it. Let's go. Come on.       23.0  S09E23   \n",
       "54615  Alright, hey, you've been great! See you in th...       23.0  S09E23   \n",
       "\n",
       "       Season  \n",
       "0         1.0  \n",
       "1         1.0  \n",
       "2         1.0  \n",
       "3         1.0  \n",
       "4         1.0  \n",
       "...       ...  \n",
       "54611     9.0  \n",
       "54612     9.0  \n",
       "54613     9.0  \n",
       "54614     9.0  \n",
       "54615     9.0  \n",
       "\n",
       "[54616 rows x 6 columns]>"
      ]
     },
     "execution_count": 4,
     "metadata": {},
     "output_type": "execute_result"
    }
   ],
   "source": [
    "df.head"
   ]
  },
  {
   "cell_type": "code",
   "execution_count": 5,
   "id": "c80d6da7",
   "metadata": {},
   "outputs": [
    {
     "data": {
      "text/plain": [
       "(54616, 6)"
      ]
     },
     "execution_count": 5,
     "metadata": {},
     "output_type": "execute_result"
    }
   ],
   "source": [
    "df.shape"
   ]
  },
  {
   "cell_type": "code",
   "execution_count": 6,
   "id": "f7943a87",
   "metadata": {},
   "outputs": [
    {
     "data": {
      "text/plain": [
       "Unnamed: 0      int64\n",
       "Character      object\n",
       "Dialogue       object\n",
       "EpisodeNo     float64\n",
       "SEID           object\n",
       "Season        float64\n",
       "dtype: object"
      ]
     },
     "execution_count": 6,
     "metadata": {},
     "output_type": "execute_result"
    }
   ],
   "source": [
    "df.dtypes"
   ]
  },
  {
   "cell_type": "code",
   "execution_count": 20,
   "id": "294c53a6",
   "metadata": {},
   "outputs": [
    {
     "data": {
      "text/html": [
       "<div>\n",
       "<style scoped>\n",
       "    .dataframe tbody tr th:only-of-type {\n",
       "        vertical-align: middle;\n",
       "    }\n",
       "\n",
       "    .dataframe tbody tr th {\n",
       "        vertical-align: top;\n",
       "    }\n",
       "\n",
       "    .dataframe thead th {\n",
       "        text-align: right;\n",
       "    }\n",
       "</style>\n",
       "<table border=\"1\" class=\"dataframe\">\n",
       "  <thead>\n",
       "    <tr style=\"text-align: right;\">\n",
       "      <th></th>\n",
       "      <th>Unnamed: 0</th>\n",
       "      <th>Character</th>\n",
       "      <th>Dialogue</th>\n",
       "      <th>EpisodeNo</th>\n",
       "      <th>SEID</th>\n",
       "      <th>Season</th>\n",
       "      <th>words</th>\n",
       "    </tr>\n",
       "  </thead>\n",
       "  <tbody>\n",
       "    <tr>\n",
       "      <th>0</th>\n",
       "      <td>0</td>\n",
       "      <td>JERRY</td>\n",
       "      <td>Do you know what this is all about? Do you kno...</td>\n",
       "      <td>1.0</td>\n",
       "      <td>S01E01</td>\n",
       "      <td>1.0</td>\n",
       "      <td>189.0</td>\n",
       "    </tr>\n",
       "    <tr>\n",
       "      <th>1</th>\n",
       "      <td>1</td>\n",
       "      <td>JERRY</td>\n",
       "      <td>(pointing at Georges shirt) See, to me, that b...</td>\n",
       "      <td>1.0</td>\n",
       "      <td>S01E01</td>\n",
       "      <td>1.0</td>\n",
       "      <td>41.0</td>\n",
       "    </tr>\n",
       "    <tr>\n",
       "      <th>2</th>\n",
       "      <td>2</td>\n",
       "      <td>GEORGE</td>\n",
       "      <td>Are you through?</td>\n",
       "      <td>1.0</td>\n",
       "      <td>S01E01</td>\n",
       "      <td>1.0</td>\n",
       "      <td>3.0</td>\n",
       "    </tr>\n",
       "    <tr>\n",
       "      <th>3</th>\n",
       "      <td>3</td>\n",
       "      <td>JERRY</td>\n",
       "      <td>You do of course try on, when you buy?</td>\n",
       "      <td>1.0</td>\n",
       "      <td>S01E01</td>\n",
       "      <td>1.0</td>\n",
       "      <td>9.0</td>\n",
       "    </tr>\n",
       "    <tr>\n",
       "      <th>4</th>\n",
       "      <td>4</td>\n",
       "      <td>GEORGE</td>\n",
       "      <td>Yes, it was purple, I liked it, I dont actuall...</td>\n",
       "      <td>1.0</td>\n",
       "      <td>S01E01</td>\n",
       "      <td>1.0</td>\n",
       "      <td>14.0</td>\n",
       "    </tr>\n",
       "  </tbody>\n",
       "</table>\n",
       "</div>"
      ],
      "text/plain": [
       "   Unnamed: 0 Character                                           Dialogue  \\\n",
       "0           0     JERRY  Do you know what this is all about? Do you kno...   \n",
       "1           1     JERRY  (pointing at Georges shirt) See, to me, that b...   \n",
       "2           2    GEORGE                                   Are you through?   \n",
       "3           3     JERRY             You do of course try on, when you buy?   \n",
       "4           4    GEORGE  Yes, it was purple, I liked it, I dont actuall...   \n",
       "\n",
       "   EpisodeNo    SEID  Season  words  \n",
       "0        1.0  S01E01     1.0  189.0  \n",
       "1        1.0  S01E01     1.0   41.0  \n",
       "2        1.0  S01E01     1.0    3.0  \n",
       "3        1.0  S01E01     1.0    9.0  \n",
       "4        1.0  S01E01     1.0   14.0  "
      ]
     },
     "execution_count": 20,
     "metadata": {},
     "output_type": "execute_result"
    }
   ],
   "source": [
    "df['words'] = df['Dialogue'].str.count(' ') + 1\n",
    "df.head()"
   ]
  },
  {
   "cell_type": "code",
   "execution_count": 23,
   "id": "cb168035",
   "metadata": {},
   "outputs": [
    {
     "data": {
      "text/plain": [
       "Character\n",
       "JERRY       147430.0\n",
       "GEORGE      107049.0\n",
       "ELAINE       74642.0\n",
       "KRAMER       70304.0\n",
       "NEWMAN        7069.0\n",
       "FRANK         4894.0\n",
       "MORTY         4748.0\n",
       "HELEN         3401.0\n",
       "PETERMAN      2907.0\n",
       "SUSAN         2880.0\n",
       "Name: words, dtype: float64"
      ]
     },
     "execution_count": 23,
     "metadata": {},
     "output_type": "execute_result"
    }
   ],
   "source": [
    "df.groupby('Character') \\\n",
    "    .words \\\n",
    "    .sum() \\\n",
    "    .sort_values(ascending=False) \\\n",
    "    .head(10)"
   ]
  },
  {
   "cell_type": "code",
   "execution_count": 45,
   "id": "f9b108f2",
   "metadata": {},
   "outputs": [
    {
     "data": {
      "text/plain": [
       "Season\n",
       "1.0    16511.0\n",
       "2.0    37235.0\n",
       "3.0    67968.0\n",
       "4.0    74172.0\n",
       "5.0    71418.0\n",
       "6.0    67962.0\n",
       "7.0    75209.0\n",
       "8.0    65795.0\n",
       "9.0    70015.0\n",
       "Name: words, dtype: float64"
      ]
     },
     "execution_count": 45,
     "metadata": {},
     "output_type": "execute_result"
    }
   ],
   "source": [
    "Total_words = df.groupby(by='Season').words.sum()\n",
    "Total_words"
   ]
  },
  {
   "cell_type": "code",
   "execution_count": 68,
   "id": "b9f5e9fb",
   "metadata": {
    "scrolled": true
   },
   "outputs": [
    {
     "data": {
      "text/plain": [
       "Season\n",
       "1.0     8888.0\n",
       "2.0    14690.0\n",
       "3.0    20936.0\n",
       "4.0    21419.0\n",
       "5.0    18103.0\n",
       "6.0    17239.0\n",
       "7.0    16631.0\n",
       "8.0    14348.0\n",
       "9.0    15176.0\n",
       "Name: words, dtype: float64"
      ]
     },
     "execution_count": 68,
     "metadata": {},
     "output_type": "execute_result"
    }
   ],
   "source": [
    "Jerry_word = df[(df.Character == \"JERRY\")].groupby(by='Season').words.sum() \n",
    "Jerry_word"
   ]
  },
  {
   "cell_type": "code",
   "execution_count": 77,
   "id": "942a4049",
   "metadata": {},
   "outputs": [],
   "source": [
    "Jerry_words = df[df.Character.str.startswith(\"JERRY\")].groupby(by='Season').words.sum() "
   ]
  },
  {
   "cell_type": "code",
   "execution_count": 75,
   "id": "91a5d12d",
   "metadata": {},
   "outputs": [
    {
     "data": {
      "text/plain": [
       "False    39636\n",
       "True     14980\n",
       "Name: Character, dtype: int64"
      ]
     },
     "execution_count": 75,
     "metadata": {},
     "output_type": "execute_result"
    }
   ],
   "source": [
    "df['Character'].str.startswith(\"JERRY\").value_counts()"
   ]
  },
  {
   "cell_type": "code",
   "execution_count": 72,
   "id": "1fdc55a4",
   "metadata": {},
   "outputs": [
    {
     "data": {
      "text/plain": [
       "JERRY    14786\n",
       "Name: Character, dtype: int64"
      ]
     },
     "execution_count": 72,
     "metadata": {},
     "output_type": "execute_result"
    }
   ],
   "source": [
    "df[(df.Character == 'JERRY')].Character.value_counts()"
   ]
  },
  {
   "cell_type": "code",
   "execution_count": 80,
   "id": "543179b9",
   "metadata": {},
   "outputs": [
    {
     "data": {
      "text/plain": [
       "Season\n",
       "1.0    0.538\n",
       "2.0    0.395\n",
       "3.0    0.308\n",
       "4.0    0.289\n",
       "5.0    0.253\n",
       "6.0    0.254\n",
       "7.0    0.221\n",
       "8.0    0.218\n",
       "9.0    0.217\n",
       "Name: words, dtype: float64"
      ]
     },
     "execution_count": 80,
     "metadata": {},
     "output_type": "execute_result"
    }
   ],
   "source": [
    "(Jerry_word / Total_words).round(3)"
   ]
  },
  {
   "cell_type": "code",
   "execution_count": 79,
   "id": "9dc6f226",
   "metadata": {},
   "outputs": [
    {
     "data": {
      "text/plain": [
       "Season\n",
       "1.0    0.541\n",
       "2.0    0.396\n",
       "3.0    0.314\n",
       "4.0    0.291\n",
       "5.0    0.256\n",
       "6.0    0.258\n",
       "7.0    0.224\n",
       "8.0    0.221\n",
       "9.0    0.217\n",
       "Name: words, dtype: float64"
      ]
     },
     "execution_count": 79,
     "metadata": {},
     "output_type": "execute_result"
    }
   ],
   "source": [
    "(Jerry_words / Total_words).round(3)"
   ]
  },
  {
   "cell_type": "code",
   "execution_count": 49,
   "id": "0655bb05",
   "metadata": {},
   "outputs": [
    {
     "data": {
      "text/plain": [
       "Season\n",
       "1.0     2889.0\n",
       "2.0     8605.0\n",
       "3.0    15004.0\n",
       "4.0    16252.0\n",
       "5.0    14279.0\n",
       "6.0    11921.0\n",
       "7.0    13911.0\n",
       "8.0    11129.0\n",
       "9.0    13059.0\n",
       "Name: words, dtype: float64"
      ]
     },
     "execution_count": 49,
     "metadata": {},
     "output_type": "execute_result"
    }
   ],
   "source": [
    "George_word = df[(df.Character == 'GEORGE')].groupby(by='Season').words.sum() \n",
    "George_word"
   ]
  },
  {
   "cell_type": "code",
   "execution_count": 51,
   "id": "4d174bd5",
   "metadata": {},
   "outputs": [
    {
     "data": {
      "text/plain": [
       "Season\n",
       "1.0    0.17\n",
       "2.0    0.23\n",
       "3.0    0.22\n",
       "4.0    0.22\n",
       "5.0    0.20\n",
       "6.0    0.18\n",
       "7.0    0.18\n",
       "8.0    0.17\n",
       "9.0    0.19\n",
       "Name: words, dtype: float64"
      ]
     },
     "execution_count": 51,
     "metadata": {},
     "output_type": "execute_result"
    }
   ],
   "source": [
    "(George_word / Total_words).round(2)"
   ]
  },
  {
   "cell_type": "code",
   "execution_count": 46,
   "id": "11aaca8d",
   "metadata": {},
   "outputs": [
    {
     "data": {
      "text/plain": [
       "Season\n",
       "1.0    14149.0\n",
       "2.0    31397.0\n",
       "3.0    52861.0\n",
       "4.0    54328.0\n",
       "5.0    50557.0\n",
       "6.0    48776.0\n",
       "7.0    50808.0\n",
       "8.0    46486.0\n",
       "9.0    50063.0\n",
       "Name: words, dtype: float64"
      ]
     },
     "execution_count": 46,
     "metadata": {},
     "output_type": "execute_result"
    }
   ],
   "source": [
    "df[(df.Character == 'JERRY') | (df.Character == 'GEORGE') | (df.Character == 'ELAINE') | (df.Character == 'KRAMER')].groupby(by='Season').words.sum()"
   ]
  },
  {
   "cell_type": "code",
   "execution_count": null,
   "id": "512a1166",
   "metadata": {},
   "outputs": [],
   "source": []
  }
 ],
 "metadata": {
  "kernelspec": {
   "display_name": "Python 3 (ipykernel)",
   "language": "python",
   "name": "python3"
  },
  "language_info": {
   "codemirror_mode": {
    "name": "ipython",
    "version": 3
   },
   "file_extension": ".py",
   "mimetype": "text/x-python",
   "name": "python",
   "nbconvert_exporter": "python",
   "pygments_lexer": "ipython3",
   "version": "3.10.3"
  }
 },
 "nbformat": 4,
 "nbformat_minor": 5
}
